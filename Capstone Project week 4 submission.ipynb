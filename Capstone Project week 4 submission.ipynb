{
    "nbformat_minor": 1, 
    "cells": [
        {
            "source": "# Real Estate Investments in Birmingham", 
            "cell_type": "markdown", 
            "metadata": {}
        }, 
        {
            "source": "*(Week 4 Capstone Submission)*", 
            "cell_type": "markdown", 
            "metadata": {}
        }, 
        {
            "source": "## 1. Introduction/ Business Problem", 
            "cell_type": "markdown", 
            "metadata": {
                "collapsed": true
            }
        }, 
        {
            "source": "A financial company is interested in investing in property which is widespread throughout Birmingham as part of a new low-risk fund.\nThe mission statement of this new fund is to invest in properties in Birmingham which are the most common to their areas, to ensure a low risk strategy on investments.\nThis preliminary study is to identify which types of business are most common in certain areas of Birmingham", 
            "cell_type": "markdown", 
            "metadata": {}
        }, 
        {
            "source": "Birmingham is becoming a more ethnically diverse city in a short period of time, in accordance to census data (see https://en.wikipedia.org/wiki/Demography_of_Birmingham). Investments in ethnic restaurants in the right areas of the city may hold potential as safer investments, so identifying areas where these restaurants are most prolific would be an excellent start for this new fund.", 
            "cell_type": "markdown", 
            "metadata": {}
        }, 
        {
            "source": "While this report may be of use to this company, sorting areas of Birmingham into different areas may also assist in other lines of inquiry, such as more desirable places to live based on surrounding shops and amenities. This information may double up as being useful for companies looking to build new homes and investors who will finance this, as the current political climate in the UK requires the building of many homes in the coming years.", 
            "cell_type": "markdown", 
            "metadata": {}
        }, 
        {
            "source": "### Target Audience:\n\nInvestors who are looking to know more about the culture and diversity of Birmingham, and how this information can be used to affect an investment into real estate.\n\n### Stake-Holders:\n\n* Investors\n* Home buyers/sellers\n* Real estate owners", 
            "cell_type": "markdown", 
            "metadata": {}
        }, 
        {
            "source": "## 2. Data", 
            "cell_type": "markdown", 
            "metadata": {}
        }, 
        {
            "source": "To achieve the above, geographical data in and around the city of Birmingham needs to be created. To do this, the latitude and longitude for postcodes beginning with 'B' are taken from: https://www.freemaptools.com/download-uk-postcode-lat-lng.htm. In this data set, the outcode (i.e. the first half) of postcodes along with latitude and longitude are available in .csv format.", 
            "cell_type": "markdown", 
            "metadata": {}
        }, 
        {
            "source": "With the postcode outcodes, the latitude and longitude will be used to make a call to the Foursquare API, to record what services are central to each region. ", 
            "cell_type": "markdown", 
            "metadata": {}
        }, 
        {
            "source": "The most common venue will be displayed, up to the 10th most common venue, to get a sense for which venues are most prevalent.", 
            "cell_type": "markdown", 
            "metadata": {}
        }, 
        {
            "execution_count": null, 
            "cell_type": "code", 
            "metadata": {}, 
            "outputs": [], 
            "source": ""
        }
    ], 
    "metadata": {
        "kernelspec": {
            "display_name": "Python 3.5", 
            "name": "python3", 
            "language": "python"
        }, 
        "language_info": {
            "mimetype": "text/x-python", 
            "nbconvert_exporter": "python", 
            "version": "3.5.5", 
            "name": "python", 
            "file_extension": ".py", 
            "pygments_lexer": "ipython3", 
            "codemirror_mode": {
                "version": 3, 
                "name": "ipython"
            }
        }
    }, 
    "nbformat": 4
}